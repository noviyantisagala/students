{
 "cells": [
  {
   "cell_type": "markdown",
   "id": "04dfc425",
   "metadata": {},
   "source": [
    "# PBT57057 - Smart Academic Advisory"
   ]
  },
  {
   "cell_type": "markdown",
   "id": "7064705e",
   "metadata": {},
   "source": [
    "We used SOCS student dataset (kemanggisan & alam sutera) from 2010 - 2021 (odd term only). Most dataset features is presented as categorical type.    \n",
    "     \n",
    "**The goal is to build 'the best' possible classification model which can be used to predict who will belong to NR type. The result is expected to help SASC team in the future by getting information (NR and non-NR students) earlier.**"
   ]
  },
  {
   "cell_type": "markdown",
   "id": "acce7f82",
   "metadata": {},
   "source": [
    "### Description of Dataset Mahasiswa   \n",
    "    \n",
    "`Status` = Status mahasiswa (Lulus, Belum Lulus, Dismissal', 'Aktif', 'Cuti)   \n",
    "`NIM`    = Nomor Induk Mahasiswa   \n",
    "`Name`   = Nama Mahasiswa   \n",
    "`IntOrg` = Status keikutsertaan internal organisasi (N = tidak bergabung; Y = bergabung)    \n",
    "`ExtOrg` = Status keikutsertaan external organisasi (N = tidak bergabung; Y = bergabung)    \n",
    "`PartInAcadComp` = Status keikutsertaan dalam kompetisi akademik ( N = tidak pernah; Y = pernah)  \n",
    "`Term` = Semester (1420 --> Binusian 14 semester genap; 1410--> Binusian 14 semester ganjil)      \n",
    "    \n",
    "       \n",
    "### Description of Data Demografi   \n",
    "`Term`  = Semester   \n",
    "`nofom` = Nomor formulir saat pendaftaran   \n",
    "`NIM`   = Nomor Induk Mahasiswa   \n",
    "`Name`  = Nama mahasiswa    \n",
    "`BinusianID` = Binusian ID   \n",
    "`acad_group` = academic group (S0CS)    \n",
    "`Status` = Status Mahasiswa (Undur Diri', 'Lulus', 'Dismissal', 'Aktif', 'Cuti)    \n",
    "`Age`  = Usia Mahasiswa (dihitung dari tgl lahir hingga 2022)    \n",
    "`Gender` = Gender     \n",
    "`ScholarshipStatus` = Jenis Beasiswa yang diterima    \n",
    "`English Score` = Nilai tes TOEFL PBT BINUS    \n",
    "`RangeSalaryFa` = Gaji Ayah dalam bentuk range (4 kategori yaitu < 10jt; 10jt-19,99jt; 20jt - 29,99jt; >=30jt)   \n",
    "`SalaryFa` = Gaji Ayah (6 kategori yaitu 3jt, 5jt, 10jt, 15jt, 20jt, 30jt)   \n",
    "`TuitionLevel` = Biaya kuliah yang dibebankan ke mahasiswa   \n",
    "`Address` = alamat mahasiswa    \n",
    "`FaJob` = Pekerjaan Ayah (Pegawai negeri sipil; Pegawai swasta; Wiraswasta; ABRI; Tidak bekerja; Pensiun; Guru; Lain - Lain; PTS (Perguruan Tinggi Swasta)'; 'PTN (Perguruan Tinggi Negeri)';'Petani)         \n",
    "   \n",
    "`MoJob` = Pekerjaan Ibu (Pegawai negeri sipil; Pegawai swasta; Wiraswasta; ABRI; Tidak bekerja;  Pensiun; Guru; Lain - Lain; PTS (Perguruan Tinggi Swasta)'; 'PTN (Perguruan Tinggi Negeri)';'Petani)        \n",
    "     \n",
    "`EducationFa` = Pendidikan terakhir ayah ( MASTER; Sarjana; DOCTOR; Tamat SLTA; DIPLOMA (D3); Diploma(D4); Diploma(D2); Diploma(D1); Tamat SMP, Tamat SD; Specialist 1; Tidak Tamat SD; Specialist 2; High School (SMA))       \n",
    "   \n",
    "    \n",
    "`EducationMo` = Pendidikan terakhir Ibu ( MASTER; Sarjana; DOCTOR; Tamat SLTA; DIPLOMA (D3);    Diploma(D4); Diploma(D2); Diploma(D1); Tamat SMP, Tamat SD; Specialist 1; Tidak Tamat SD; Specialist 2; High School (SMA))       \n",
    "   \n",
    "`StatusFa` = Status ayah( Masih Hidup; Telah meninggal)    \n",
    "`StatusMo` = Status Ibu( Masih Hidup; Telah Meninggal)    \n",
    "`fixed`    = variabel yang dipakai untuk menarik data    \n",
    "`variable` = variabel yang dipakai untuk menarik data      \n",
    "   \n",
    "### Description of Dataset Prestasi Mahasiswa   \n",
    "   \n",
    "`Term`   = Semester   \n",
    "`NIM`     = Nomor Induk Mahasiswa   \n",
    "`Jurusan/Program` = Program Studi/Program   \n",
    "`KategoriJurusan` = Kategori Jurusan (Ganda; reguler)   \n",
    "`LokasiKuliah` = Lokasi Kuliah (Kemanggisan; Alam Sutera)   \n",
    "`Angkatan`  = Angkatan mahasiswa (2000 - 2020)   \n",
    "`PeriodeMasuk` = Semester   \n",
    "`Semesterke` = Semester berjalan   \n",
    "`SKSLulusSemesterBerjalan` = Total SKS yang sudah diambil mahasiswa     \n",
    "`StatusIPK` = Status IPK Mahasiswa (IPK Kurang = dibawah 2.00; OK= >=2.00)     \n",
    "`StatusSKS` = Stauts SKS mahasiswa (SKS Kurang = SKS kumulatif kurang dari kelipatan 15 sks per semester/lebih dari 10 semester; OK )     \n",
    "`Evaluasi` = Evaluasi prestasi akademik mahasiswa (NR; Middle--> IPK 2.00 - 2.99; High--> 3.00 - 4.00)       "
   ]
  },
  {
   "cell_type": "markdown",
   "id": "07afc6cc",
   "metadata": {},
   "source": [
    "### **LIBRARIES**"
   ]
  },
  {
   "cell_type": "code",
   "execution_count": 1,
   "id": "af52bf4b",
   "metadata": {},
   "outputs": [],
   "source": [
    "import pandas as pd\n",
    "import numpy as np\n",
    "import matplotlib.pyplot as plt\n",
    "import seaborn as sns\n",
    "import category_encoders as ce\n",
    "import pydotplus\n",
    "import math\n",
    "import pickle \n",
    "import warnings\n",
    "\n",
    "from matplotlib.cm import get_cmap\n",
    "from matplotlib.patches import Patch\n",
    "from sklearn.model_selection import  train_test_split\n",
    "from sklearn.metrics import mean_squared_error, r2_score, accuracy_score, classification_report, confusion_matrix\n",
    "from sklearn.preprocessing import OneHotEncoder\n",
    "import sklearn.linear_model as lm\n",
    "from sklearn.tree import export_graphviz, export_text\n",
    "from six import StringIO\n",
    "from IPython.display import Image  \n",
    "import statsmodels.api as sm\n",
    "from scipy import stats\n",
    "from catboost import Pool\n",
    "from imblearn.over_sampling import SMOTE\n",
    "\n",
    "pd.options.mode.chained_assignment = None  # default='warn'\n",
    "warnings.filterwarnings(\"ignore\")"
   ]
  },
  {
   "cell_type": "markdown",
   "id": "04cef4c5",
   "metadata": {},
   "source": [
    "# A. Data Collection #"
   ]
  },
  {
   "cell_type": "markdown",
   "id": "2c87f30d",
   "metadata": {},
   "source": [
    "### **READ DATA** ###"
   ]
  },
  {
   "cell_type": "code",
   "execution_count": 2,
   "id": "ce2b3fc0",
   "metadata": {},
   "outputs": [],
   "source": [
    "#Read data mahasiswa\n",
    "data = pd.read_excel (r'datamahasiswa.xlsx') \n",
    "\n",
    "#Read data demografi mahasiswa\n",
    "data_demo = pd.read_excel (r'DemografiMahasiswa.xlsx') \n",
    "\n",
    "#Read data prestasi mahasiswa\n",
    "data_prestasi = pd.read_excel (r'timsasc.xlsx') "
   ]
  },
  {
   "cell_type": "markdown",
   "id": "a3175d5b",
   "metadata": {},
   "source": [
    "### **CREATE DATA FRAMES & COPY of THEM** ###"
   ]
  },
  {
   "cell_type": "code",
   "execution_count": 3,
   "id": "d1a791f4",
   "metadata": {},
   "outputs": [],
   "source": [
    "df = pd.DataFrame(data)\n",
    "df_demo = pd.DataFrame(data_demo)\n",
    "df_pres = pd.DataFrame(data_prestasi)\n",
    "\n",
    "#make a copy of all dataframes\n",
    "df_copy = df\n",
    "df_demo_copy = df_demo\n",
    "df_pres_copy = df_pres"
   ]
  },
  {
   "cell_type": "markdown",
   "id": "6b213875",
   "metadata": {},
   "source": [
    "### Student Data Cleansing ###"
   ]
  },
  {
   "cell_type": "code",
   "execution_count": 4,
   "id": "33e27c5f",
   "metadata": {},
   "outputs": [],
   "source": [
    "#remove unimportant features\n",
    "df = df.drop(['BinusianID', 'Name', 'Status'], axis = 1)\n",
    "\n",
    "#remove duplicate rows\n",
    "df = df.drop_duplicates(keep='first').reset_index(drop=True)\n",
    "\n",
    "# Getting rid of shor term records\n",
    "removal_list = [1330,1430,1530,1630,1730,1830,1930,2030]\n",
    "df = df[~df['Term'].isin(removal_list)]\n",
    "\n",
    "# drop missing values from term attribute\n",
    "df = df.dropna(subset=['Term'])\n",
    "\n",
    "# Convert type of variables for merging purpose\n",
    "df['Term']=df['Term'].astype('Int64')\n",
    "df['NIM']=df['NIM'].astype('Int64')"
   ]
  },
  {
   "cell_type": "markdown",
   "id": "1bc9f2c0",
   "metadata": {},
   "source": [
    "### Demographic Data Cleansing ###"
   ]
  },
  {
   "cell_type": "code",
   "execution_count": 5,
   "id": "55d69354",
   "metadata": {},
   "outputs": [],
   "source": [
    "#Remove Unimportant Features\n",
    "df_demo = df_demo.drop(['nofom', 'acad_Career', 'Name', 'BinusianID','acad_group', 'Age', 'RangeSalaryFa', 'RangeSalaryMo','SalaryMo','SalaryFa','TuitionLevel','Address', 'fixed', 'variable'], axis = 1)\n",
    "\n",
    "#replace - with nan\n",
    "df_demo = df_demo.replace('-', np.nan)\n",
    "\n",
    "#remove short term records(xx30)\n",
    "df_demo = df_demo.drop(df_demo[df_demo.Term.isin([1330,1430,1530,1630,1730,1830,1930,2030,2120])].index)\n",
    "\n",
    "#remove duplicate rows\n",
    "df_demo = df_demo.drop_duplicates(subset = ['NIM','Term'],keep = 'first').reset_index(drop=True)\n",
    "\n",
    "#remove NA from Term attribute\n",
    "df_demo = df_demo.dropna(subset=['Term'])\n",
    "\n",
    "#Convert term type for merging purpose\n",
    "df_demo['Term']=df_demo['Term'].astype('Int64')"
   ]
  },
  {
   "cell_type": "markdown",
   "id": "68736586",
   "metadata": {},
   "source": [
    "### Performance Data Cleansing ###"
   ]
  },
  {
   "cell_type": "code",
   "execution_count": 6,
   "id": "3c39049d",
   "metadata": {},
   "outputs": [],
   "source": [
    "#rename values\n",
    "df_pres.loc[df_pres[\"JurusanOrProgram\"] == \"Computer Science\", \"JurusanOrProgram\"] = 'A'\n",
    "df_pres.loc[df_pres[\"JurusanOrProgram\"] == \"Computer Science & Mathematics\", \"JurusanOrProgram\"] = 'B'\n",
    "df_pres.loc[df_pres[\"JurusanOrProgram\"] == \"Computer Science & Statistics\", \"JurusanOrProgram\"] = 'C'\n",
    "df_pres.loc[df_pres[\"JurusanOrProgram\"] == \"Mobile Application & Technology\", \"JurusanOrProgram\"] = 'D'\n",
    "df_pres.loc[df_pres[\"JurusanOrProgram\"] == \"Game Application & Technology\", \"JurusanOrProgram\"] = 'E'\n",
    "df_pres.loc[df_pres[\"JurusanOrProgram\"] == \"Computer Science - Global Class\", \"JurusanOrProgram\"] = 'F'\n",
    "df_pres.loc[df_pres[\"JurusanOrProgram\"] == \"Master of Information Technology - Master Track\", \"JurusanOrProgram\"] = 'H'\n",
    "df_pres.loc[df_pres[\"JurusanOrProgram\"] == \"Cyber Security\", \"JurusanOrProgram\"] = 'G'"
   ]
  },
  {
   "cell_type": "markdown",
   "id": "1d00d967",
   "metadata": {},
   "source": [
    "### MERGING DATAFRAMES ###"
   ]
  },
  {
   "cell_type": "code",
   "execution_count": 7,
   "id": "1cae218e",
   "metadata": {},
   "outputs": [],
   "source": [
    "# specify a left join—also known as a left outer join—with the how parameter. \n",
    "#Using a left outer join will leave your new merged DataFrame with all rows from the left DataFrame, \n",
    "#while discarding rows from the right DataFrame that don’t have a match in the key column of the left DataFrame.\n",
    "\n",
    "finalDF = pd.merge(df_demo,df, on=[\"Term\", \"NIM\"], how=\"left\")\n",
    "finalDF = pd.merge(finalDF,df_pres, on=[\"Term\", \"NIM\"], how=\"left\")\n",
    "\n",
    "#make a copy of finalDF for backup\n",
    "finalDF_copy=finalDF"
   ]
  },
  {
   "cell_type": "markdown",
   "id": "51950c16",
   "metadata": {},
   "source": [
    "# B. Data Preprocessing #"
   ]
  },
  {
   "cell_type": "markdown",
   "id": "bef8f5b9",
   "metadata": {},
   "source": [
    "### 1. Data Cleansing ###"
   ]
  },
  {
   "cell_type": "code",
   "execution_count": 8,
   "id": "cce149d7",
   "metadata": {},
   "outputs": [],
   "source": [
    "#take only 'angkatan' >= 2010 and Semester 1-5\n",
    "#make a copy of finalDF for indexing\n",
    "finalDFF = finalDF\n",
    "\n",
    "finalDFF = finalDFF[finalDFF['SemesterKe'].isin([1,2,3,4,5])][['NIM','SemesterKe']]\n",
    "df1g = finalDFF.groupby(['NIM']).count()\n",
    "df1g = df1g.reset_index()\n",
    "#check data student yg ada semester 3- semester 6\n",
    "df1g = df1g[df1g['SemesterKe']==5]\n",
    "#make a list of NIM\n",
    "index_NIM = list(df1g['NIM'])"
   ]
  },
  {
   "cell_type": "code",
   "execution_count": 9,
   "id": "d2cffa2e",
   "metadata": {},
   "outputs": [],
   "source": [
    "#To select rows whose column is in an iterable array, which we'll define as array:\n",
    "df = finalDF.loc[(finalDF['NIM'].isin(index_NIM)) & finalDF['SemesterKe'].isin([1,2,3,4,5])]"
   ]
  },
  {
   "cell_type": "code",
   "execution_count": 10,
   "id": "9e578282",
   "metadata": {},
   "outputs": [],
   "source": [
    "#remove NA from label attribute\n",
    "df.dropna(subset=['Evaluasi'], inplace=True)\n",
    "\n",
    "#Set label\n",
    "#Middle and High ar set as 0(nonNR) while Non Reguler as 1\n",
    "df.loc[df[\"Evaluasi\"] == \"Non Reguler\", \"Evaluasi\"] = 1\n",
    "df.loc[df[\"Evaluasi\"] == \"Middle\", \"Evaluasi\"] = 0\n",
    "df.loc[df[\"Evaluasi\"] == \"High\", \"Evaluasi\"] = 0"
   ]
  },
  {
   "cell_type": "code",
   "execution_count": 11,
   "id": "698cafa0",
   "metadata": {},
   "outputs": [],
   "source": [
    "#Remove unimportant features\n",
    "df = df.drop(['NIM','Term', 'Status_x'], axis = 1)\n",
    "df.rename(columns = {'Status_y':'Status'}, inplace = True)\n",
    "df = df.drop(['Angkatan','IPKTerakhir', 'SKSKumulatifTerakhir'], axis = 1)"
   ]
  },
  {
   "cell_type": "code",
   "execution_count": 12,
   "id": "9a536d51",
   "metadata": {},
   "outputs": [],
   "source": [
    "#remove unknown values from Gender column\n",
    "df = df[df.Gender != 'Unknown']"
   ]
  },
  {
   "cell_type": "code",
   "execution_count": 13,
   "id": "c9086406",
   "metadata": {},
   "outputs": [],
   "source": [
    "#Remove unnecessary strips\n",
    "'''strip leading and trailing space'''\n",
    "df['EducationFa'] = df['EducationFa'].str.replace(\" \",\"\")\n",
    "df['EducationMo'] = df['EducationMo'].str.replace(\" \",\"\")"
   ]
  },
  {
   "cell_type": "code",
   "execution_count": 14,
   "id": "4e89fff7",
   "metadata": {},
   "outputs": [],
   "source": [
    "# Remove missing values in Father's & Mother's Education Columns\n",
    "df = df[df.EducationFa != 'N/A']\n",
    "df = df[df.EducationMo != 'N/A']"
   ]
  },
  {
   "cell_type": "markdown",
   "id": "6200eb93",
   "metadata": {},
   "source": [
    "### 2. Data Transformation ###"
   ]
  },
  {
   "cell_type": "code",
   "execution_count": 15,
   "id": "733b0849",
   "metadata": {},
   "outputs": [],
   "source": [
    "#Replace englishscore with englishLevel\n",
    "df['EnglishScore'] = np.where(df['EnglishScore'] > '550', 'Advance', df['EnglishScore'])\n",
    "df['EnglishScore'] = np.where((df['EnglishScore'] <= '550') & (df['EnglishScore'] >= '467'), \"Intermediate\", df['EnglishScore'])\n",
    "df['EnglishScore'] = np.where(df['EnglishScore'] < '467', 'Beginner', df['EnglishScore'])"
   ]
  },
  {
   "cell_type": "code",
   "execution_count": 16,
   "id": "0205ce0c",
   "metadata": {},
   "outputs": [],
   "source": [
    "#EducationFa attribute\n",
    "df.loc[(df['EducationFa'] == 'DOCTOR(S3)') | (df['EducationFa'] == 'MASTER(S2)') | (df['EducationFa'] == 'SPECIALIST2(Sp.2)'), 'EducationFa'] = 'level1'\n",
    "\n",
    "df.loc[(df['EducationFa'] == 'Sarjana(S1)') | (df['EducationFa'] == 'SPECIALIST1(Sp.1)') | (df['EducationFa'] == 'DIPLOMA(D4)')  | (df['EducationFa'] == 'Diploma(D4)')|\n",
    "       (df['EducationFa'] == 'DIPLOMA(D3)') | (df['EducationFa'] == 'DIPLOMA(D2)')|(df['EducationFa'] == 'Diploma(D2)') | (df['EducationFa'] == 'Diploma(D1)'), 'EducationFa'] = 'level2'\n",
    "\n",
    "df.loc[(df['EducationFa'] == 'TidaktamatSD') | (df['EducationFa'] == 'TamatSD') | (df['EducationFa'] == 'TamatSMP')|\n",
    "             (df['EducationFa'] == 'HIGHSCHOOL(SMA)') | (df['EducationFa'] == 'TamatSLTA'), 'EducationFa'] = 'level3'     "
   ]
  },
  {
   "cell_type": "code",
   "execution_count": 17,
   "id": "bb26b5b8",
   "metadata": {},
   "outputs": [],
   "source": [
    "#EducationMo attribute\n",
    "df.loc[(df['EducationMo'] == 'DOCTOR(S3)') | (df['EducationMo'] == 'MASTER(S2)') | (df['EducationMo'] == 'SPECIALIST2(Sp.2)'), 'EducationMo'] = 'level1'\n",
    "\n",
    "df.loc[(df['EducationMo'] == 'Sarjana(S1)') | (df['EducationMo'] == 'SPECIALIST1(Sp.1)')| (df['EducationMo'] == 'DIPLOMA(D4)') | (df['EducationMo'] == 'Diploma(D4)') | (df['EducationMo'] == 'DIPLOMA(D3)') | (df['EducationMo'] == 'DIPLOMA(D2)')\n",
    "             |(df['EducationMo'] == 'Diploma(D2)') | (df['EducationMo'] == 'Diploma(D1)'), 'EducationMo'] = 'level2'\n",
    "\n",
    "df.loc[(df['EducationMo'] == 'TidaktamatSD') | (df['EducationMo'] == 'TamatSD') | (df['EducationMo'] == 'TamatSD')| (df['EducationMo'] == 'TamatSMP')|\n",
    "             (df['EducationMo'] == 'HIGHSCHOOL(SMA)') | (df['EducationMo'] == 'TamatSLTA'), 'EducationMo']= 'level3'"
   ]
  },
  {
   "cell_type": "code",
   "execution_count": 18,
   "id": "4b8f549e",
   "metadata": {},
   "outputs": [],
   "source": [
    "#Scholarship attribute\n",
    "df['ScholarshipStatus'] = df['ScholarshipStatus'].str.replace(\" \",\"\")\n",
    "df.loc[(df['ScholarshipStatus'] == 'BINUSIAN') | (df['ScholarshipStatus'] == 'BeasiswaKaryawan')\n",
    "               | (df['ScholarshipStatus'] == 'SIBLINGSCHOLARSHIP')| (df['ScholarshipStatus'] == 'SiblingScholarship')\n",
    "               | (df['ScholarshipStatus'] == 'BeasiswaAnakKaryawan') | (df['ScholarshipStatus'] == 'BINUSIANCOMMUNITYSCHOLARSHIP')\n",
    "               | (df['ScholarshipStatus'] == 'BeasiswaBINUSAmbassador')\n",
    "                | (df['ScholarshipStatus'] == 'School:BinusianCommunityandEarlyBird')\n",
    "                | (df['ScholarshipStatus'] == 'School:BinusianCommunityorEarlyBird'), 'ScholarshipStatus'] = 'binusian'\n",
    "\n",
    "df.loc[ (df['ScholarshipStatus'] == 'TalentDevelopmentProgram')|\n",
    "             (df['ScholarshipStatus'] == 'NationDevelopmentProgram') | (df['ScholarshipStatus'] == 'BeasiswaBINUSINTERNATIONALSCHOOL') |                                                   \n",
    "             (df['ScholarshipStatus'] == 'DirectAdmissionBINUSINTERNATIONALSCHOOL') | (df['ScholarshipStatus'] == 'KerjasamaASAK') |                                                     \n",
    "            (df['ScholarshipStatus'] == 'BeasiswaAnakGuru') |(df['ScholarshipStatus'] == 'BeasiswaKerjasamaBINUS-AyoKuliah')\n",
    "             |(df['ScholarshipStatus'] == 'BEASISWAJURUSAN') |(df['ScholarshipStatus'] == 'BeasiswaJurusan')                                                \n",
    "             |(df['ScholarshipStatus'] == 'BeasiswaJuaraKompas-BINUS')|(df['ScholarshipStatus'] == 'BeasiswaKhususEducationExpo')\n",
    "            |(df['ScholarshipStatus'] == 'BeasiswaTalentMapping')|(df['ScholarshipStatus'] == 'Beasiswa')\n",
    "            |(df['ScholarshipStatus'] == 'BeasiswaUndanganSekolahKhusus')|(df['ScholarshipStatus'] == 'BeasiswaTPKS') | (df['ScholarshipStatus'] == 'BEASISWATPKSKHUSUS')\n",
    "            | (df['ScholarshipStatus'] == 'BeasiswaTPKSKhusus(NonRefundable)') |(df['ScholarshipStatus'] == 'BeasiswaBIDIKMISI')\n",
    "            | (df['ScholarshipStatus'] == 'WidiaPartialScholarship')|(df['ScholarshipStatus'] == 'widia')\n",
    "             | (df['ScholarshipStatus'] == 'WidiaScholarshipforOutstandingAchievers'), 'ScholarshipStatus'] = 'Other'\n",
    "\n",
    "df.loc[(df['ScholarshipStatus'] == 'PendaftaranBiasa') | (df['ScholarshipStatus'] == 'PendaftaranBiasa(EarlyBatch)')|\n",
    "        (df['ScholarshipStatus'] == 'School:Regular')|(df['ScholarshipStatus'] == 'Kalbis(TeknikInformatikadanMatematika2018)'), 'ScholarshipStatus'] = 'regular'"
   ]
  },
  {
   "cell_type": "code",
   "execution_count": 19,
   "id": "58a6acb6",
   "metadata": {},
   "outputs": [],
   "source": [
    "#Father's Job attribute\n",
    "df.loc[(df['FaJob'] == 'ABRI') | (df['FaJob'] == 'Guru')| (df['FaJob'] == 'Lain - Lain')\n",
    "             | (df['FaJob'] == 'PTN (Perguruan Tinggi Negeri)') | (df['FaJob'] == 'Wiraswasta') \n",
    "       | (df['FaJob'] == 'PTS (Perguruan Tinggi Swasta)'), 'FaJob'] = 'Other'\n",
    "                                                                           \n",
    "df.loc[(df['FaJob'] == 'Pensiun') | (df['FaJob'] == 'Tidak bekerja'), 'FaJob'] = 'Unemployement'\n",
    "df.loc[(df['FaJob'] == 'Pegawai negeri sipil') | (df['FaJob'] == 'Pegawai swasta'), 'FaJob'] = 'Employee'"
   ]
  },
  {
   "cell_type": "code",
   "execution_count": 20,
   "id": "fd4c24e6",
   "metadata": {},
   "outputs": [],
   "source": [
    "#Mother's Job attribute\n",
    "df.loc[(df['MoJob'] == 'ABRI') | (df['MoJob'] == 'Guru')| (df['MoJob'] == 'Lain - Lain')| (df['MoJob'] == 'Petani')\n",
    "             | (df['MoJob'] == 'PTN (Perguruan Tinggi Negeri)') | (df['MoJob'] == 'Wiraswasta') \n",
    "       | (df['MoJob'] == 'PTS (Perguruan Tinggi Swasta)'), 'MoJob'] = 'Other'\n",
    "                                                                           \n",
    "df.loc[(df['MoJob'] == 'Pensiun') | (df['MoJob'] == 'Tidak bekerja'), 'MoJob'] = 'Unemployement'\n",
    "df.loc[(df['MoJob'] == 'Pegawai negeri sipil') | (df['MoJob'] == 'Pegawai swasta'), 'MoJob'] = 'Employee'"
   ]
  },
  {
   "cell_type": "markdown",
   "id": "b5981081",
   "metadata": {},
   "source": [
    "#### Data Imputation ####"
   ]
  },
  {
   "cell_type": "code",
   "execution_count": 21,
   "id": "bd29de74",
   "metadata": {},
   "outputs": [],
   "source": [
    "#finalDF.mode()['ScholarshipStatus'][0]\n",
    "mode = df.mode(axis=0, numeric_only = False)\n",
    "\n",
    "##imputation categorical values\n",
    "cols = ['ScholarshipStatus','EnglishScore', 'FaJob', 'MoJob', 'EducationFa',\n",
    "       'EducationMo', 'StatusFa', 'StatusMo', 'IntOrg', 'ExtOrg',\n",
    "       'PartInAcadComp', 'PartInNonacadCom',]\n",
    "df[cols]=df[cols].fillna(df.mode().iloc[0])"
   ]
  },
  {
   "cell_type": "code",
   "execution_count": 22,
   "id": "8768cbb0",
   "metadata": {},
   "outputs": [],
   "source": [
    "#Export dataframe into a xlsx file\n",
    "df.to_excel('finaldataset.xlsx', index=False)"
   ]
  },
  {
   "cell_type": "markdown",
   "id": "431cb2fc",
   "metadata": {},
   "source": [
    "### 3. Create Dummy Variables ###"
   ]
  },
  {
   "cell_type": "code",
   "execution_count": 23,
   "id": "ac30be32",
   "metadata": {},
   "outputs": [],
   "source": [
    "cat_vars=['Gender', 'ScholarshipStatus', 'EnglishScore', 'FaJob', 'MoJob',\n",
    "       'EducationFa', 'EducationMo', 'StatusFa', 'StatusMo', 'IntOrg',\n",
    "       'ExtOrg', 'PartInAcadComp', 'PartInNonacadCom', 'JurusanOrProgram',\n",
    "       'KategoriJurusan', 'LokasiKuliah', 'Status', 'CekIPK','CekSKS']\n",
    "for var in cat_vars:\n",
    "    cat_list='var'+'_'+var\n",
    "    cat_list = pd.get_dummies(df[var], prefix=var)\n",
    "    data1=df.join(cat_list)\n",
    "    df=data1\n",
    "    \n",
    "data_vars=df.columns.values.tolist()\n",
    "to_keep=[i for i in data_vars if i not in cat_vars]\n",
    "\n",
    "data_final=df[to_keep]\n",
    "data_final.rename(columns={'Gender_Laki-Laki': 'Gender_Male', 'Gender_Perempuan': 'Gender_Female', 'StatusMo_Masih Hidup': 'StatusMo_alive', 'StatusMo_Telah Meninggal': 'StatusMo_died', 'LokasiKuliah_Alam Sutera' : 'LokasiKuliah_AlamSutera'}, inplace=True)"
   ]
  },
  {
   "cell_type": "markdown",
   "id": "205690d5",
   "metadata": {},
   "source": [
    "### 4. Split training and testing data set ###"
   ]
  },
  {
   "cell_type": "code",
   "execution_count": 24,
   "id": "1df8b322",
   "metadata": {},
   "outputs": [],
   "source": [
    "X = data_final \n",
    "train = X.loc[(X['SemesterKe'] <= 4) ]\n",
    "test = X.loc[X['SemesterKe'] == 5]\n",
    "train = train.drop(['SemesterKe'], axis = 1)\n",
    "test = test.drop(['SemesterKe'], axis = 1)\n",
    "test = test.sample(n = 230)\n",
    "\n",
    "#Export test dataframe to a xlsx file\n",
    "test.to_excel('test.xlsx', index=False)"
   ]
  },
  {
   "cell_type": "code",
   "execution_count": 25,
   "id": "e3cd17dd",
   "metadata": {},
   "outputs": [],
   "source": [
    "# Creates list of all column headers for train and test sets\n",
    "all_columns = list(train) \n",
    "train[all_columns] = train[all_columns].astype('int64')\n",
    "\n",
    "all_columns = list(test)\n",
    "test[all_columns] = test[all_columns].astype('int64')"
   ]
  },
  {
   "cell_type": "code",
   "execution_count": 26,
   "id": "4d69ed1d",
   "metadata": {},
   "outputs": [],
   "source": [
    "#train set\n",
    "X_train = train.loc[:,train.columns != 'Evaluasi']\n",
    "y_train = train.loc[:, train.columns == 'Evaluasi']\n",
    "#test set\n",
    "X_test = test.loc[:,test.columns != 'Evaluasi']\n",
    "y_test = test.loc[:, test.columns == 'Evaluasi']"
   ]
  },
  {
   "cell_type": "markdown",
   "id": "14a1aa66",
   "metadata": {},
   "source": [
    "### 5. Data Balancing ###"
   ]
  },
  {
   "cell_type": "code",
   "execution_count": 27,
   "id": "317c8cbf",
   "metadata": {},
   "outputs": [],
   "source": [
    "#Oversampling training & testing sets\n",
    "smote = SMOTE(random_state = 42)\n",
    "X, y = smote.fit_resample(X_train, y_train)\n",
    "X1, y1 = smote.fit_resample(X_test, y_test)"
   ]
  },
  {
   "cell_type": "markdown",
   "id": "14f8fec0",
   "metadata": {},
   "source": [
    "# C. Data Modelling & Evaluation #"
   ]
  },
  {
   "cell_type": "code",
   "execution_count": 28,
   "id": "1a09c608",
   "metadata": {},
   "outputs": [
    {
     "name": "stdout",
     "output_type": "stream",
     "text": [
      "Optimization terminated successfully.\n",
      "         Current function value: 0.411771\n",
      "         Iterations 11\n",
      "                           Logit Regression Results                           \n",
      "==============================================================================\n",
      "Dep. Variable:               Evaluasi   No. Observations:                 8216\n",
      "Model:                          Logit   Df Residuals:                     8193\n",
      "Method:                           MLE   Df Model:                           22\n",
      "Date:                Wed, 07 Sep 2022   Pseudo R-squ.:                  0.4059\n",
      "Time:                        11:23:58   Log-Likelihood:                -3383.1\n",
      "converged:                       True   LL-Null:                       -5694.9\n",
      "Covariance Type:            nonrobust   LLR p-value:                     0.000\n",
      "==============================================================================================\n",
      "                                 coef    std err          z      P>|z|      [0.025      0.975]\n",
      "----------------------------------------------------------------------------------------------\n",
      "Gender_Male                   -2.8426      0.618     -4.600      0.000      -4.054      -1.631\n",
      "Gender_Female                 -4.5102      0.630     -7.157      0.000      -5.745      -3.275\n",
      "ScholarshipStatus_Other       -4.5465      0.425    -10.697      0.000      -5.380      -3.713\n",
      "ScholarshipStatus_binusian    -4.3802      0.440     -9.956      0.000      -5.243      -3.518\n",
      "ScholarshipStatus_regular     -3.2572      0.425     -7.668      0.000      -4.090      -2.425\n",
      "EnglishScore_Advance          -4.9154      0.461    -10.674      0.000      -5.818      -4.013\n",
      "EnglishScore_Beginner         -3.2838      0.461     -7.127      0.000      -4.187      -2.381\n",
      "EnglishScore_Intermediate     -4.3607      0.458     -9.516      0.000      -5.259      -3.463\n",
      "FaJob_Employee                -5.7294      1.007     -5.692      0.000      -7.702      -3.757\n",
      "FaJob_Other                   -5.7526      1.006     -5.718      0.000      -7.725      -3.781\n",
      "FaJob_Unemployement           -6.1763      1.017     -6.074      0.000      -8.169      -4.183\n",
      "MoJob_Employee                -3.9929      0.515     -7.757      0.000      -5.002      -2.984\n",
      "MoJob_Other                   -4.7427      0.513     -9.243      0.000      -5.748      -3.737\n",
      "MoJob_Unemployement           -4.3247      0.511     -8.455      0.000      -5.327      -3.322\n",
      "EducationFa_level1            -4.5628      0.594     -7.680      0.000      -5.727      -3.398\n",
      "EducationFa_level2            -4.9337      0.589     -8.379      0.000      -6.088      -3.780\n",
      "EducationFa_level3            -5.3470      0.591     -9.053      0.000      -6.505      -4.189\n",
      "EducationMo_level1            -4.2554      0.468     -9.098      0.000      -5.172      -3.339\n",
      "EducationMo_level2            -3.8390      0.438     -8.758      0.000      -4.698      -2.980\n",
      "EducationMo_level3            -3.5294      0.437     -8.068      0.000      -4.387      -2.672\n",
      "StatusMo_alive                33.2082      1.674     19.842      0.000      29.928      36.489\n",
      "LokasiKuliah_AlamSutera       -3.9130      0.468     -8.354      0.000      -4.831      -2.995\n",
      "LokasiKuliah_Kemanggisan      -3.8181      0.466     -8.192      0.000      -4.732      -2.905\n",
      "==============================================================================================\n"
     ]
    }
   ],
   "source": [
    "import statsmodels.api as sm\n",
    "logit_model=sm.Logit(y,X.loc[:, ['Gender_Male', 'Gender_Female', 'ScholarshipStatus_Other',\n",
    "       'ScholarshipStatus_binusian', 'ScholarshipStatus_regular',\n",
    "       'EnglishScore_Advance', 'EnglishScore_Beginner',\n",
    "       'EnglishScore_Intermediate', 'FaJob_Employee', 'FaJob_Other',\n",
    "       'FaJob_Unemployement', 'MoJob_Employee', 'MoJob_Other',\n",
    "       'MoJob_Unemployement', 'EducationFa_level1', 'EducationFa_level2',\n",
    "       'EducationFa_level3', 'EducationMo_level1', 'EducationMo_level2',\n",
    "       'EducationMo_level3',  'StatusMo_alive','LokasiKuliah_AlamSutera',\n",
    "       'LokasiKuliah_Kemanggisan']])\n",
    "result=logit_model.fit()\n",
    "print(result.summary())"
   ]
  },
  {
   "cell_type": "code",
   "execution_count": 29,
   "id": "8f8b4372",
   "metadata": {},
   "outputs": [
    {
     "data": {
      "text/plain": [
       "LogisticRegression()"
      ]
     },
     "execution_count": 29,
     "metadata": {},
     "output_type": "execute_result"
    }
   ],
   "source": [
    "# Logistic Regression Model Fitting\n",
    "from sklearn.linear_model import LogisticRegression\n",
    "var = ['Gender_Male', 'Gender_Female', 'ScholarshipStatus_Other',\n",
    "       'ScholarshipStatus_binusian', 'ScholarshipStatus_regular',\n",
    "       'EnglishScore_Advance', 'EnglishScore_Beginner',\n",
    "       'EnglishScore_Intermediate', 'FaJob_Employee', 'FaJob_Other',\n",
    "       'FaJob_Unemployement', 'MoJob_Employee', 'MoJob_Other',\n",
    "       'MoJob_Unemployement', 'EducationFa_level1', 'EducationFa_level2',\n",
    "       'EducationFa_level3', 'EducationMo_level1', 'EducationMo_level2',\n",
    "       'EducationMo_level3',  'StatusMo_alive','LokasiKuliah_AlamSutera',\n",
    "       'LokasiKuliah_Kemanggisan']\n",
    "X = X[var]\n",
    "X1 = X1[var]\n",
    "logreg = LogisticRegression()\n",
    "logreg.fit(X, y)"
   ]
  },
  {
   "cell_type": "code",
   "execution_count": 30,
   "id": "2d4738e6",
   "metadata": {},
   "outputs": [
    {
     "name": "stdout",
     "output_type": "stream",
     "text": [
      "              precision    recall  f1-score   support\n",
      "\n",
      "           0       0.99      0.87      0.93       222\n",
      "           1       0.89      0.99      0.94       222\n",
      "\n",
      "    accuracy                           0.93       444\n",
      "   macro avg       0.94      0.93      0.93       444\n",
      "weighted avg       0.94      0.93      0.93       444\n",
      "\n"
     ]
    }
   ],
   "source": [
    "# Check prediction result\n",
    "y_pred = logreg.predict(X1)\n",
    "print(classification_report(y1,y_pred))"
   ]
  },
  {
   "cell_type": "markdown",
   "id": "1d1601c5",
   "metadata": {},
   "source": [
    "# D. Model Deployment #"
   ]
  },
  {
   "cell_type": "code",
   "execution_count": 31,
   "id": "9952ee65",
   "metadata": {},
   "outputs": [],
   "source": [
    "### Create a Pickle file for deployment using serialization  \n",
    "import pickle\n",
    "pickle_out = open(\"modelLogR.pkl\",\"wb\")\n",
    "pickle.dump(logreg, pickle_out)\n",
    "pickle_out.close()"
   ]
  },
  {
   "cell_type": "markdown",
   "id": "962ff3c0",
   "metadata": {},
   "source": [
    "### Results of Data Analysis :  ###\n",
    "   \n",
    "1. There are lots of missing and duplicated values from the raw data, especially student dataset given by IT Unit   \n",
    "2. Several attributes are considered as unimportant features, so they are removed.   \n",
    "3. Here are the statistical results (mode: the most common value in each feature)   \n",
    "Status                           Aktif   \n",
    "Gender                       Laki-Laki   \n",
    "ScholarshipStatus    Pendaftaran Biasa   \n",
    "EnglishScore                   Advance (PBT Score > 550)   \n",
    "FaJob                       Wiraswasta   \n",
    "MoJob                    Tidak bekerja    \n",
    "EducationFa                     level5 (Tidak tamat SD, tamat SD, tamat SMP, SMA, dan tamat SLTA)    \n",
    "EducationMo                     level5 (Tidak tamat SD, tamat SD, tamat SMP, SMA, dan tamat SLTA)     \n",
    "StatusFa                   Masih Hidup    \n",
    "StatusMo                   Masih Hidup      \n",
    "IntOrg                               N (Tidak mengikuti organisasi yang ada di BINUS)    \n",
    "ExtOrg                               N (Tidak mengikuti organisasi yang ada di luar BINUS)    \n",
    "PartInAcadComp                       N (TIdak pernah berpartisipasi dalam kompetisi akademik)     \n",
    "PartInNonacadCom                     N ( Tidak pernah berpartisipasi dalam kompetisi non-akademik)    \n",
    "JurusanOrProgram                   CSP (Computer Science Program)    \n",
    "KategoriJurusan                Reguler    \n",
    "LokasiKuliah               Kemanggisan    \n",
    "StatusKuliah                     Aktif    \n",
    "StatusIPK                           OK (> 2.00)    \n",
    "StatusSKS                           OK (Tidak kurang dari kelipatan 15 SKS)     \n",
    "Evaluasi                             0     \n",
    "\n",
    "4. Total number of students: 28066    \n",
    "Number of students who passed: 24474    \n",
    "Number of students who failed: 3592   \n",
    "SP3 rate of the class: 12.80%    \n",
    "\n",
    "5. The number of Non-NR observations are higher than NR.    \n",
    "   \n",
    "6. IPK Status= Kurang (IPK < 2.00) is the most influential factor to the rate of NR students. followed by SKS Status ( the cumulative of credits is less than multiple of 15 in each term).   \n",
    "    \n",
    "7. It is interesting to note that, Father Status (died/lived) is the third highest factor influencing student NR rate. Then, the campus location (kemanggisan/alam sutera) contribute a small amount the NR Rate.   \n",
    "    \n",
    "8. Overall, for the last 10 years, Computer Science Program is the program with the highest number of NR students, followed by Cyber Security Program. It is interesting to note that, Mobile Application & Tech (MAT) Program and Game Application Program(GAT) contributed at similar level to the number of NR students.   "
   ]
  },
  {
   "cell_type": "code",
   "execution_count": null,
   "id": "9470386f",
   "metadata": {},
   "outputs": [],
   "source": []
  }
 ],
 "metadata": {
  "kernelspec": {
   "display_name": "Python 3 (ipykernel)",
   "language": "python",
   "name": "python3"
  },
  "language_info": {
   "codemirror_mode": {
    "name": "ipython",
    "version": 3
   },
   "file_extension": ".py",
   "mimetype": "text/x-python",
   "name": "python",
   "nbconvert_exporter": "python",
   "pygments_lexer": "ipython3",
   "version": "3.8.12"
  }
 },
 "nbformat": 4,
 "nbformat_minor": 5
}
